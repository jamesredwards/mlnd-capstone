{
 "cells": [
  {
   "cell_type": "code",
   "execution_count": null,
   "metadata": {},
   "outputs": [],
   "source": [
    "import pytrader_lite\n",
    "import random\n",
    "import pandas as pd\n",
    "\n",
    "from IPython.display import display\n",
    "\n",
    "%load_ext autoreload\n",
    "%autoreload 2\n",
    "% matplotlib inline\n",
    "\n",
    "def color_negative_red(val):\n",
    "    \"\"\"\n",
    "    Takes a scalar and returns a string with\n",
    "    the css property `'color: red'` for negative\n",
    "    strings, black otherwise.\n",
    "    \"\"\"\n",
    "    if val < 0: \n",
    "        color = 'red' \n",
    "    elif val > 0:\n",
    "        color = 'green'\n",
    "    else:\n",
    "        color = 'black'\n",
    "    return 'color: %s' % color"
   ]
  },
  {
   "cell_type": "code",
   "execution_count": null,
   "metadata": {},
   "outputs": [],
   "source": [
    "# All tickers listed on US stock exchanges\n",
    "all_tickers = list(pd.read_csv(r'./instrument_table.csv')['Symbol'])\n",
    "\n",
    "# List of tickers used in the training and testing, as detailed in the report\n",
    "tickers_from_report = list(pd.read_csv('./report_tickers.csv')['Symbol'])\n",
    "\n",
    "# path to final model from report\n",
    "model_path = './final_voting_model.pkl'\n",
    "\n",
    "# number of tickers to use for the model\n",
    "num_tickers = 5\n",
    "\n",
    "# get a random subset\n",
    "tickers = random.sample(tickers_from_report, num_tickers)\n",
    "\n",
    "# or uncomment the below to run on all the tickers used in the report\n",
    "# tickers = tickers_from_report\n",
    "# or uncomment the below to try on randomly selected stocks on the US stock exchanges\n",
    "# tickers = random.sample(all_tickers, num_tickers)\n",
    "\n",
    "print(tickers)\n",
    "\n",
    "# initiate the model runner\n",
    "runner = pytrader_lite.model_runner(tickers, model_path)"
   ]
  },
  {
   "cell_type": "code",
   "execution_count": null,
   "metadata": {
    "scrolled": false
   },
   "outputs": [],
   "source": [
    "# run the model\n",
    "runner.run()"
   ]
  },
  {
   "cell_type": "code",
   "execution_count": null,
   "metadata": {},
   "outputs": [],
   "source": [
    "# show the model score differences to benchmark\n",
    "display(runner.score_df.style.format(\"{:.4f}\").applymap(color_negative_red))"
   ]
  },
  {
   "cell_type": "code",
   "execution_count": null,
   "metadata": {
    "collapsed": true
   },
   "outputs": [],
   "source": []
  }
 ],
 "metadata": {
  "kernelspec": {
   "display_name": "Python 3",
   "language": "python",
   "name": "python3"
  },
  "language_info": {
   "codemirror_mode": {
    "name": "ipython",
    "version": 3
   },
   "file_extension": ".py",
   "mimetype": "text/x-python",
   "name": "python",
   "nbconvert_exporter": "python",
   "pygments_lexer": "ipython3",
   "version": "3.6.2"
  }
 },
 "nbformat": 4,
 "nbformat_minor": 2
}
